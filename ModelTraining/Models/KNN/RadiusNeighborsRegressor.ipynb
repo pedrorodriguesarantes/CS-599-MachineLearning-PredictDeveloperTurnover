{
 "cells": [
  {
   "cell_type": "code",
   "execution_count": 1,
   "metadata": {},
   "outputs": [],
   "source": [
    "from sklearn.neighbors import RadiusNeighborsRegressor\n",
    "from sklearn.metrics import mean_squared_error, mean_absolute_error, r2_score\n",
    "from sklearn.model_selection import train_test_split\n",
    "\n",
    "import pandas as pd\n",
    "import numpy as np\n",
    "from joblib import Parallel, delayed\n",
    "from tqdm import tqdm\n",
    "import os\n",
    "import glob"
   ]
  },
  {
   "cell_type": "code",
   "execution_count": 2,
   "metadata": {},
   "outputs": [],
   "source": [
    "folder_path = \"../../Data/\"\n",
    "\n",
    "file_list = glob.glob(os.path.join(folder_path, \"*.parquet\"))\n",
    "\n",
    "df = [pd.read_parquet(file) for file in file_list]\n",
    "df = pd.concat(df, ignore_index=True)"
   ]
  },
  {
   "cell_type": "code",
   "execution_count": 3,
   "metadata": {},
   "outputs": [],
   "source": [
    "df, _ = train_test_split(df, train_size=50000, stratify=df['time_to_stop_activity'], random_state=11)"
   ]
  },
  {
   "cell_type": "code",
   "execution_count": 4,
   "metadata": {},
   "outputs": [],
   "source": [
    "df = df.drop(\n",
    "    columns = [\n",
    "        \"user\", \n",
    "        'project', \n",
    "        'current_month', \n",
    "        'turnover_num',\n",
    "        'turnover',\n",
    "        'betweenness_centrality_12_intercept',\n",
    "        'betweenness_centrality_12_slope', \n",
    "        'betweenness_centrality_12_std_dev',\n",
    "        'betweenness_centrality_3_intercept', \n",
    "        'betweenness_centrality_3_slope',\n",
    "        'betweenness_centrality_3_std_dev',\n",
    "        'betweenness_centrality_6_intercept', \n",
    "        'betweenness_centrality_6_slope',\n",
    "        'betweenness_centrality_6_std_dev',\n",
    "        'betweenness_centrality_9_intercept', \n",
    "        'betweenness_centrality_9_slope',\n",
    "        'betweenness_centrality_9_std_dev'\n",
    "    ], axis = 1\n",
    ")"
   ]
  },
  {
   "cell_type": "code",
   "execution_count": 5,
   "metadata": {},
   "outputs": [],
   "source": [
    "df = df.astype(np.float64)\n",
    "df = df.replace([np.inf], np.nan)\n",
    "\n",
    "for column in df.columns:\n",
    "    max_value = df[column].max(skipna=True) \n",
    "    df[column] = df[column].fillna(max_value)\n",
    "\n",
    "df = df.replace([-np.inf], np.nan)\n",
    "\n",
    "for column in df.columns:\n",
    "    max_value = df[column].min(skipna=True) \n",
    "    df[column] = df[column].fillna(max_value)"
   ]
  },
  {
   "cell_type": "code",
   "execution_count": 6,
   "metadata": {},
   "outputs": [],
   "source": [
    "for column in df.columns:\n",
    "    max_value = df[column].max(skipna=True) \n",
    "    df[column] = df[column].fillna(max_value)"
   ]
  },
  {
   "cell_type": "code",
   "execution_count": 7,
   "metadata": {},
   "outputs": [],
   "source": [
    "def train_evaluate_radius_neighbors(radius, weights, metric, X_train, Y_train, X_test, Y_test):\n",
    "    mse = None\n",
    "    mae = None\n",
    "    r2 = None\n",
    "\n",
    "    try:\n",
    "        rnr = RadiusNeighborsRegressor(radius=radius, weights=weights, metric=metric)\n",
    "        rnr.fit(X_train, Y_train)\n",
    "\n",
    "        y_pred = []\n",
    "        neighborhoods = rnr.radius_neighbors(X_test, return_distance=False)\n",
    "        default_value = Y_train.mean()\n",
    "\n",
    "        for i, neighbors in enumerate(neighborhoods):\n",
    "            if len(neighbors) == 0: \n",
    "                y_pred.append(default_value)\n",
    "            else: \n",
    "                y_pred.append(rnr.predict(X_test[i].reshape(1, -1))[0])\n",
    "\n",
    "        mse = mean_squared_error(Y_test, y_pred)\n",
    "        mae = mean_absolute_error(Y_test, y_pred)\n",
    "        r2 = r2_score(Y_test, y_pred)\n",
    "\n",
    "        print(f'RNR - Radius: {radius}, Weights: {weights}, Metric: {metric} Finalized - MSE: {mse}, MAE: {mae}, R2: {r2}')\n",
    "\n",
    "        return {\n",
    "            'radius': radius,\n",
    "            'weights': weights,\n",
    "            'metric': metric,\n",
    "            'mean_squared_error': mse,\n",
    "            'mean_absolute_error': mae,\n",
    "            'r2_score': r2\n",
    "        }\n",
    "    \n",
    "    except Exception as e:\n",
    "        print(f'RNR - Radius: {radius}, Weights: {weights}, Metric: {metric} Error: {e}')\n",
    "    \n",
    "        return {\n",
    "            'radius': radius,\n",
    "            'weights': weights,\n",
    "            'metric': metric,\n",
    "            'mean_squared_error': mse,\n",
    "            'mean_absolute_error': mae,\n",
    "            'r2_score': r2\n",
    "        }"
   ]
  },
  {
   "cell_type": "code",
   "execution_count": 8,
   "metadata": {},
   "outputs": [],
   "source": [
    "param_combinations = [\n",
    "    (radius, weights, metric)\n",
    "    for radius in [1.0, 2.0, 3.0, 4.0, 5.0, 10.0, 20.0]\n",
    "    for weights in ['uniform', 'distance']\n",
    "    for metric in ['euclidean', 'manhattan']\n",
    "]"
   ]
  },
  {
   "cell_type": "code",
   "execution_count": 9,
   "metadata": {},
   "outputs": [],
   "source": [
    "x = df.drop(columns = ['time_to_stop_activity'], axis = 1).values\n",
    "y = df['time_to_stop_activity'].values"
   ]
  },
  {
   "cell_type": "code",
   "execution_count": 10,
   "metadata": {},
   "outputs": [],
   "source": [
    "X_train, X_test, Y_train, Y_test = train_test_split(\n",
    "    x, y, \n",
    "    test_size = 0.3, \n",
    "    random_state=11\n",
    ")"
   ]
  },
  {
   "cell_type": "code",
   "execution_count": 11,
   "metadata": {},
   "outputs": [],
   "source": [
    "results = Parallel(n_jobs=3)(\n",
    "    delayed(train_evaluate_radius_neighbors)(radius, weights, metric, X_train, Y_train, X_test, Y_test)\n",
    "    for radius, weights, metric in param_combinations\n",
    ")"
   ]
  },
  {
   "cell_type": "code",
   "execution_count": 12,
   "metadata": {},
   "outputs": [],
   "source": [
    "benchmark_df = pd.DataFrame(results)"
   ]
  },
  {
   "cell_type": "code",
   "execution_count": 13,
   "metadata": {},
   "outputs": [],
   "source": [
    "benchmark_df.to_excel('RadiusRegressorBenchmark.xlsx')"
   ]
  }
 ],
 "metadata": {
  "kernelspec": {
   "display_name": ".venv",
   "language": "python",
   "name": "python3"
  },
  "language_info": {
   "codemirror_mode": {
    "name": "ipython",
    "version": 3
   },
   "file_extension": ".py",
   "mimetype": "text/x-python",
   "name": "python",
   "nbconvert_exporter": "python",
   "pygments_lexer": "ipython3",
   "version": "3.12.0"
  }
 },
 "nbformat": 4,
 "nbformat_minor": 2
}
