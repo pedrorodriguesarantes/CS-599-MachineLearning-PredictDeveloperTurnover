{
 "cells": [
  {
   "cell_type": "code",
   "execution_count": 1,
   "metadata": {},
   "outputs": [],
   "source": [
    "from sklearn.ensemble import AdaBoostRegressor\n",
    "from sklearn.tree import DecisionTreeRegressor\n",
    "from sklearn.metrics import mean_squared_error, mean_absolute_error, r2_score\n",
    "from sklearn.model_selection import train_test_split\n",
    "\n",
    "import pandas as pd\n",
    "import numpy as np\n",
    "from joblib import Parallel, delayed\n",
    "from tqdm import tqdm\n",
    "\n",
    "import os\n",
    "import glob"
   ]
  },
  {
   "cell_type": "code",
   "execution_count": 2,
   "metadata": {},
   "outputs": [],
   "source": [
    "folder_path = \"../../Data/\"\n",
    "file_list = glob.glob(os.path.join(folder_path, \"*.parquet\"))\n",
    "\n",
    "df = [pd.read_parquet(file) for file in file_list]\n",
    "df = pd.concat(df, ignore_index=True)"
   ]
  },
  {
   "cell_type": "code",
   "execution_count": 3,
   "metadata": {},
   "outputs": [],
   "source": [
    "df, _ = train_test_split(df, train_size=200000, stratify=df['time_to_stop_activity'], random_state=11)"
   ]
  },
  {
   "cell_type": "code",
   "execution_count": 4,
   "metadata": {},
   "outputs": [],
   "source": [
    "df = df.drop(\n",
    "    columns = [\n",
    "        \"user\", \n",
    "        'project', \n",
    "        'current_month', \n",
    "        'turnover_num',\n",
    "        'turnover',\n",
    "        'betweenness_centrality_12_intercept',\n",
    "        'betweenness_centrality_12_slope', \n",
    "        'betweenness_centrality_12_std_dev',\n",
    "        'betweenness_centrality_3_intercept', \n",
    "        'betweenness_centrality_3_slope',\n",
    "        'betweenness_centrality_3_std_dev',\n",
    "        'betweenness_centrality_6_intercept', \n",
    "        'betweenness_centrality_6_slope',\n",
    "        'betweenness_centrality_6_std_dev',\n",
    "        'betweenness_centrality_9_intercept', \n",
    "        'betweenness_centrality_9_slope',\n",
    "        'betweenness_centrality_9_std_dev'\n",
    "    ], axis = 1\n",
    ")"
   ]
  },
  {
   "cell_type": "code",
   "execution_count": 5,
   "metadata": {},
   "outputs": [],
   "source": [
    "df = df.astype(np.float64)\n",
    "df = df.replace([np.inf], np.nan)\n",
    "\n",
    "for column in df.columns:\n",
    "    max_value = df[column].max(skipna=True) \n",
    "    df[column] = df[column].fillna(max_value)\n",
    "\n",
    "df = df.replace([-np.inf], np.nan)\n",
    "\n",
    "for column in df.columns:\n",
    "    max_value = df[column].min(skipna=True) \n",
    "    df[column] = df[column].fillna(max_value)"
   ]
  },
  {
   "cell_type": "code",
   "execution_count": 6,
   "metadata": {},
   "outputs": [],
   "source": [
    "for column in df.columns:\n",
    "    max_value = df[column].max(skipna=True) \n",
    "    df[column] = df[column].fillna(max_value)"
   ]
  },
  {
   "cell_type": "code",
   "execution_count": 7,
   "metadata": {},
   "outputs": [],
   "source": [
    "def train_evaluate_adaboost(n_estimators, learning_rate, max_depth, X_train, Y_train, X_test, Y_test):\n",
    "    mse = None; mae = None; r2 = None\n",
    "\n",
    "    try:\n",
    "        base_estimator = DecisionTreeRegressor(max_depth=max_depth)\n",
    "        adaboost = AdaBoostRegressor(\n",
    "            estimator=base_estimator,\n",
    "            n_estimators=n_estimators,\n",
    "            learning_rate=learning_rate,\n",
    "            random_state=11\n",
    "        )\n",
    "        \n",
    "        adaboost.fit(X_train, Y_train)\n",
    "        y_pred = adaboost.predict(X_test)\n",
    "\n",
    "        mse = mean_squared_error(Y_test, y_pred)\n",
    "        mae = mean_absolute_error(Y_test, y_pred)\n",
    "        r2 = r2_score(Y_test, y_pred)\n",
    "\n",
    "        print(f'AB - Estimators: {n_estimators}, Learning Rate: {learning_rate}, Max Depth: {max_depth} Finalized - {mse}, {mae}, {r2}')\n",
    "    \n",
    "    except Exception as e:\n",
    "        print(f'AB - Estimators: {n_estimators}, Learning Rate: {learning_rate}, Max Depth: {max_depth} Error: {e}')\n",
    "        \n",
    "    return {\n",
    "        'n_estimators': n_estimators,\n",
    "        'learning_rate': learning_rate,\n",
    "        'max_depth': max_depth, \n",
    "        'mean_squared_error': mse,\n",
    "        'mean_absolute_error': mae,\n",
    "        'r2_score': r2\n",
    "    }"
   ]
  },
  {
   "cell_type": "code",
   "execution_count": 8,
   "metadata": {},
   "outputs": [],
   "source": [
    "param_combinations = [\n",
    "    (n_estimators, learning_rate, max_depth) \n",
    "    for n_estimators in [50, 100, 200]\n",
    "    for learning_rate in [0.01, 0.1, 1.0]\n",
    "    for max_depth in [3, 5, 10]\n",
    "]\n"
   ]
  },
  {
   "cell_type": "code",
   "execution_count": 9,
   "metadata": {},
   "outputs": [],
   "source": [
    "x = df.drop(columns = ['time_to_stop_activity'], axis = 1).values\n",
    "y = df['time_to_stop_activity'].values"
   ]
  },
  {
   "cell_type": "code",
   "execution_count": 10,
   "metadata": {},
   "outputs": [],
   "source": [
    "X_train, X_test, Y_train, Y_test = train_test_split(\n",
    "    x, y, \n",
    "    test_size = 0.3, \n",
    "    random_state=11\n",
    ")"
   ]
  },
  {
   "cell_type": "code",
   "execution_count": 11,
   "metadata": {},
   "outputs": [
    {
     "name": "stdout",
     "output_type": "stream",
     "text": [
      "AB - Estimators: 50, Learning Rate: 1.0, Max Depth: 3 Finalized - 11.402019709207929, 2.6406969122041435, 0.08848978311682376\n",
      "AB - Estimators: 100, Learning Rate: 1.0, Max Depth: 3 Finalized - 11.402019709207929, 2.6406969122041435, 0.08848978311682376\n",
      "AB - Estimators: 50, Learning Rate: 1.0, Max Depth: 5 Finalized - 11.441213512745785, 2.638265343091528, 0.08535651784677545\n",
      "AB - Estimators: 100, Learning Rate: 1.0, Max Depth: 5 Finalized - 11.441213512745785, 2.638265343091528, 0.08535651784677545\n",
      "AB - Estimators: 50, Learning Rate: 0.01, Max Depth: 3 Finalized - 10.086779767483458, 1.9821630519665137, 0.1936338431263439\n",
      "AB - Estimators: 50, Learning Rate: 0.1, Max Depth: 3 Finalized - 10.789857869265997, 2.507317193046481, 0.13742775952134245\n",
      "AB - Estimators: 100, Learning Rate: 0.1, Max Depth: 3 Finalized - 10.964312309986203, 2.5634262749328123, 0.12348137027166495\n",
      "AB - Estimators: 50, Learning Rate: 0.01, Max Depth: 5 Finalized - 9.635115734468156, 1.876121013669253, 0.22974116368812414\n",
      "AB - Estimators: 50, Learning Rate: 0.1, Max Depth: 5 Finalized - 10.626151874059001, 2.4895996542852004, 0.1505148871532741\n",
      "AB - Estimators: 200, Learning Rate: 1.0, Max Depth: 3 Finalized - 11.402019709207929, 2.6406969122041435, 0.08848978311682376\n",
      "AB - Estimators: 100, Learning Rate: 0.01, Max Depth: 3 Finalized - 10.012571753436381, 2.0546123372374194, 0.1995662449905412\n",
      "AB - Estimators: 200, Learning Rate: 0.1, Max Depth: 3 Finalized - 10.964312309986203, 2.5634262749328123, 0.12348137027166495\n",
      "AB - Estimators: 200, Learning Rate: 1.0, Max Depth: 5 Finalized - 11.441213512745785, 2.638265343091528, 0.08535651784677545\n",
      "AB - Estimators: 50, Learning Rate: 0.01, Max Depth: 10 Finalized - 9.002853604636213, 1.7175899044724001, 0.28028601502044725\n",
      "AB - Estimators: 100, Learning Rate: 0.1, Max Depth: 5 Finalized - 11.34103483544833, 2.692996430858489, 0.09336508915250041\n",
      "AB - Estimators: 50, Learning Rate: 0.1, Max Depth: 10 Finalized - 9.762707854168175, 2.2591721425777043, 0.21954108302992048\n",
      "AB - Estimators: 50, Learning Rate: 1.0, Max Depth: 10 Finalized - 18.304594809808734, 3.712976353278274, -0.4633219035372529\n",
      "AB - Estimators: 100, Learning Rate: 0.01, Max Depth: 5 Finalized - 9.638744627291498, 1.978685536274874, 0.2294510595689584\n",
      "AB - Estimators: 200, Learning Rate: 0.1, Max Depth: 5 Finalized - 11.34103483544833, 2.692996430858489, 0.09336508915250041\n",
      "AB - Estimators: 200, Learning Rate: 0.01, Max Depth: 3 Finalized - 10.274566781282923, 2.26940482829159, 0.1786216096763381\n",
      "AB - Estimators: 100, Learning Rate: 0.01, Max Depth: 10 Finalized - 8.924712824351674, 1.8017732008003833, 0.28653281351765214\n",
      "AB - Estimators: 100, Learning Rate: 0.1, Max Depth: 10 Finalized - 11.020535698525967, 2.5875571774639505, 0.11898671104559821\n",
      "AB - Estimators: 100, Learning Rate: 1.0, Max Depth: 10 Finalized - 23.13974408159993, 4.349686086511766, -0.8498576291187243\n",
      "AB - Estimators: 200, Learning Rate: 0.01, Max Depth: 5 Finalized - 9.871645667994313, 2.175874192038457, 0.21083228118253794\n",
      "AB - Estimators: 200, Learning Rate: 0.01, Max Depth: 10 Finalized - 9.046923328262753, 1.9577950488893279, 0.2767629546885686\n",
      "AB - Estimators: 200, Learning Rate: 0.1, Max Depth: 10 Finalized - 13.146824489418655, 2.9881220873264804, -0.05099492434639141\n",
      "AB - Estimators: 200, Learning Rate: 1.0, Max Depth: 10 Finalized - 27.657498623427696, 4.912789929284439, -1.2110199080192618\n"
     ]
    }
   ],
   "source": [
    "benchmark = Parallel(n_jobs=-1)(\n",
    "    delayed(train_evaluate_adaboost)(n_estimators, lr, depth, X_train, Y_train, X_test, Y_test)\n",
    "    for n_estimators, lr, depth in param_combinations\n",
    ")"
   ]
  },
  {
   "cell_type": "code",
   "execution_count": 12,
   "metadata": {},
   "outputs": [],
   "source": [
    "benchmark_df = pd.DataFrame(benchmark)"
   ]
  },
  {
   "cell_type": "code",
   "execution_count": 13,
   "metadata": {},
   "outputs": [],
   "source": [
    "benchmark_df.to_excel('AdaBoostRegressorBenchmark.xlsx')"
   ]
  }
 ],
 "metadata": {
  "kernelspec": {
   "display_name": "Python 3",
   "language": "python",
   "name": "python3"
  },
  "language_info": {
   "codemirror_mode": {
    "name": "ipython",
    "version": 3
   },
   "file_extension": ".py",
   "mimetype": "text/x-python",
   "name": "python",
   "nbconvert_exporter": "python",
   "pygments_lexer": "ipython3",
   "version": "3.9.6"
  }
 },
 "nbformat": 4,
 "nbformat_minor": 2
}
